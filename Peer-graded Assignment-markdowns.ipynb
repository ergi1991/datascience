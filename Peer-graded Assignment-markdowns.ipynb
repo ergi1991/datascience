{
 "cells": [
  {
   "cell_type": "markdown",
   "id": "009aa510",
   "metadata": {},
   "source": [
    "# Notebook for Coursera Peer Assignment"
   ]
  },
  {
   "cell_type": "raw",
   "id": "c0da8a41",
   "metadata": {},
   "source": [
    "# My experience is scattered in various industries such as: consultancy, telecommunication and information technology. I have undertaken data analysis responsibilities in the domains of IT software management, contract management and financial operations and I'm familiar with Microsoft Excel, VBA, SQL, Python and Tableau. I also have a short project management experience in the domain of audio quality assurance for Alexa AI training. Additionally, in my beginnings I got the opportunity to learn and practice some software development skills in Python and XML, while working to enhance an ERP system called Odoo, formerly OpenErp. With that said, I consider myself a valuable resource for companies willing to embrace and benefit from digital transformation projects, able to contribute with my knowledge, both from technical and managerial standpoints."
   ]
  },
  {
   "cell_type": "markdown",
   "id": "578fbd20",
   "metadata": {},
   "source": [
    "Data Science most used languanges\n",
    "1. Python\n",
    "2. R\n",
    "3. Julia"
   ]
  },
  {
   "cell_type": "markdown",
   "id": "b1e2e2b3",
   "metadata": {},
   "source": [
    "**Data Science most used libraries**\n",
    "\n",
    "<ul>\n",
    "  <li><strong>NumPy:</strong> NumPy is a fundamental library for numerical computing in Python. It provides support for large, multi-dimensional arrays and matrices, as well as a wide range of mathematical functions to operate on these arrays efficiently.</li>\n",
    "  <li><strong>pandas:</strong> pandas is a powerful data manipulation and analysis library for Python. It provides data structures like DataFrames and Series, which are widely used for data cleaning, exploration, and transformation.</li>\n",
    "  <li><strong>matplotlib:</strong> matplotlib is a popular library for creating static, animated, and interactive visualizations in Python. It provides a wide range of plotting options for data visualization.</li>\n",
    "  <li><strong>Seaborn:</strong> Seaborn is built on top of matplotlib and provides a high-level interface for creating informative and attractive statistical graphics. It is particularly useful for data visualization and exploration.</li>\n",
    "  <li><strong>scikit-learn:</strong> scikit-learn is a machine learning library for Python. It offers a wide variety of machine learning algorithms for tasks such as classification, regression, clustering, dimensionality reduction, and more.</li>\n",
    "  <li><strong>TensorFlow:</strong> Developed by Google, TensorFlow is an open-source machine learning framework. It's widely used for building and training deep learning models, especially neural networks.</li>\n",
    "  <li><strong>PyTorch:</strong> PyTorch is another popular open-source deep learning framework, developed by Facebook's AI Research lab (FAIR). It has gained popularity for its flexibility and dynamic computation graph.</li>\n",
    "  <li><strong>Keras:</strong> Keras is a high-level deep learning API that can run on top of TensorFlow, Theano, or Microsoft Cognitive Toolkit (CNTK). It provides an easy-to-use interface for building and training neural networks.</li>\n",
    "  <li><strong>statsmodels:</strong> statsmodels is a Python library for estimating and interpreting statistical models. It is particularly useful for conducting statistical tests and exploring data relationships.</li>\n",
    "  <li><strong>scipy:</strong> scipy is a library built on top of NumPy that provides additional functionality for scientific and technical computing. It includes modules for optimization, signal processing, linear algebra, and more.</li>\n",
    "  <li><strong>XGBoost:</strong> XGBoost is an optimized gradient boosting library that is widely used for machine learning competitions and structured data problems. It provides excellent performance and accuracy.</li>\n",
    "  <li><strong>LightGBM:</strong> LightGBM is another gradient boosting framework designed for speed and efficiency. It is well-suited for large datasets and is often used in Kaggle competitions.</li>\n",
    "  <li><strong>NLTK (Natural Language Toolkit):</strong> NLTK is a library for working with human language data (text data). It provides tools for tasks such as tokenization, stemming, tagging, parsing, and more.</li>\n",
    "  <li><strong>spaCy:</strong> spaCy is another popular library for natural language processing (NLP). It is known for its fast and efficient text processing capabilities and supports a wide range of languages.</li>\n",
    "  <li><strong>Gensim:</strong> Gensim is a library for topic modeling and document similarity analysis. It's commonly used for tasks like topic modeling with Latent Dirichlet Allocation (LDA) and word embedding with Word2Vec.</li>\n",
    "</ul>"
   ]
  },
  {
   "cell_type": "markdown",
   "id": "81220fad",
   "metadata": {},
   "source": [
    "**Data Science TOOLS**\n",
    "\n",
    "<ol>\n",
    "  <li><strong>Data Collection and Extraction:</strong>\n",
    "    <ul>\n",
    "      <li><strong>Web Scraping Tools:</strong> Libraries like BeautifulSoup and Scrapy for extracting data from websites.</li>\n",
    "      <li><strong>APIs:</strong> Tools like Requests in Python to access data through APIs (e.g., RESTful APIs).</li>\n",
    "      <li><strong>Data Warehousing:</strong> Platforms like Amazon Redshift, Google BigQuery, and Snowflake for storing and managing large datasets.</li>\n",
    "      <li><strong>ETL Tools:</strong> Tools like Apache Nifi and Talend for extracting, transforming, and loading data from various sources into a data warehouse.</li>\n",
    "    </ul>\n",
    "  </li>\n",
    "  <li><strong>Data Cleaning and Preprocessing:</strong>\n",
    "    <ul>\n",
    "      <li><strong>pandas:</strong> A powerful Python library for data manipulation and cleaning.</li>\n",
    "      <li><strong>OpenRefine:</strong> An open-source tool for cleaning and transforming messy data.</li>\n",
    "      <li><strong>Trifacta:</strong> A data wrangling platform that automates data cleaning and transformation tasks.</li>\n",
    "      <li><strong>Deduplicate Tools:</strong> Tools like Dedupe for identifying and removing duplicate records.</li>\n",
    "      <li><strong>Missing Data Imputation:</strong> Libraries like scikit-learn and fancyimpute for filling missing data.</li>\n",
    "    </ul>\n",
    "  </li>\n",
    "  <li><strong>Data Visualization:</strong>\n",
    "    <ul>\n",
    "      <li><strong>Matplotlib:</strong> A popular Python library for creating static and interactive visualizations.</li>\n",
    "      <li><strong>Seaborn:</strong> Built on top of Matplotlib, Seaborn provides a high-level interface for creating attractive statistical graphics.</li>\n",
    "      <li><strong>Plotly:</strong> A versatile library for creating interactive and web-based visualizations.</li>\n",
    "      <li><strong>Tableau:</strong> A powerful data visualization tool with a user-friendly interface.</li>\n",
    "      <li><strong>Power BI:</strong> Microsoft's business analytics tool for creating interactive reports and dashboards.</li>\n",
    "    </ul>\n",
    "  </li>\n",
    "  <!-- More sections... -->\n",
    "</ol>"
   ]
  },
  {
   "cell_type": "markdown",
   "id": "b8bf1349",
   "metadata": {},
   "source": [
    "## Arithmetic Expression Examples\n",
    "\n",
    "\n",
    "Here are some common arithmetic operators and examples of their usage:\n",
    "\n",
    "<dl>\n",
    "  <dt>Addition (+)</dt>\n",
    "  <dd>5 + 3 = 8</dd>\n",
    "  <dd>12.5 + 7.3 = 19.8</dd>\n",
    "\n",
    "  <dt>Subtraction (-)</dt>\n",
    "  <dd>10 - 4 = 6</dd>\n",
    "  <dd>15.7 - 3.2 = 12.5</dd>\n",
    "\n",
    "  <dt>Multiplication (*)</dt>\n",
    "  <dd>6 * 4 = 24</dd>\n",
    "  <dd>2.5 * 3 = 7.5</dd>\n",
    "\n",
    "  <dt>Division (/)</dt>\n",
    "  <dd>18 / 3 = 6</dd>\n",
    "  <dd>10.0 / 2.5 = 4.0</dd>\n",
    "\n",
    "  <dt>Modulo (%)</dt>\n",
    "  <dd>The modulo operator calculates the remainder when one number is divided by another.</dd>\n",
    "  <dd>10 % 3 = 1  <!-- Because 10 divided by 3 leaves a remainder of 1 --></dd>\n",
    "  <dd>15 % 7 = 1  <!-- Similarly, 15 divided by 7 leaves a remainder of 1 --></dd>\n",
    "</dl>"
   ]
  },
  {
   "cell_type": "code",
   "execution_count": 2,
   "id": "4e2f3f55",
   "metadata": {},
   "outputs": [
    {
     "name": "stdout",
     "output_type": "stream",
     "text": [
      "Multiplication result: 15\n",
      "Addition result: 8\n"
     ]
    }
   ],
   "source": [
    "# Define two numbers\n",
    "num1 = 5\n",
    "num2 = 3\n",
    "\n",
    "# Multiply the numbers\n",
    "result_multiply = num1 * num2\n",
    "\n",
    "# Add the numbers\n",
    "result_add = num1 + num2\n",
    "\n",
    "# Print the results\n",
    "print(\"Multiplication result:\", result_multiply)\n",
    "print(\"Addition result:\", result_add)\n"
   ]
  },
  {
   "cell_type": "code",
   "execution_count": 3,
   "id": "1322c298",
   "metadata": {},
   "outputs": [
    {
     "name": "stdout",
     "output_type": "stream",
     "text": [
      "120 minutes is equal to 2.0 hours\n"
     ]
    }
   ],
   "source": [
    "# Define the number of minutes\n",
    "minutes = 120\n",
    "\n",
    "# Convert minutes to hours\n",
    "hours = minutes / 60\n",
    "\n",
    "# Print the result\n",
    "print(minutes, \"minutes is equal to\", hours, \"hours\")\n"
   ]
  },
  {
   "cell_type": "markdown",
   "id": "6a4efad3",
   "metadata": {},
   "source": [
    "<h2>Objectives</h2>\n",
    "\n",
    "<ol>\n",
    "    \n",
    "   <li><strong>Data Science Tools and Libraries</strong>\n",
    "    <ul>\n",
    "      <li>Explore commonly used data science tools and libraries, including NumPy, pandas, matplotlib, scikit-learn, and more.</li>\n",
    "      <li>Understand their roles in data analysis, visualization, and machine learning.</li>\n",
    "    </ul>\n",
    "  </li>\n",
    "    \n",
    "  <li><strong>Introduction to Arithmetic Expressions</strong>\n",
    "    <ul>\n",
    "      <li>Understand the fundamental arithmetic operations: addition, subtraction, multiplication, division, and modulo.</li>\n",
    "      <li>Learn how to perform basic arithmetic calculations.</li>\n",
    "    </ul>\n",
    "  </li>\n",
    "  \n",
    "  <li><strong>Code Cell for Arithmetic Operations</strong>\n",
    "    <ul>\n",
    "      <li>Create a code cell in Python to demonstrate multiplication and addition of numbers.</li>\n",
    "    </ul>\n",
    "  </li>\n",
    "  \n",
    "  <li><strong>Conversion of Minutes to Hours</strong>\n",
    "    <ul>\n",
    "      <li>Develop a Python code cell to convert minutes into hours.</li>\n",
    "    </ul>\n",
    "  </li>\n",
    "  \n",
    "\n",
    "  \n",
    "</ol>\n"
   ]
  },
  {
   "cell_type": "markdown",
   "id": "6d5ac694",
   "metadata": {},
   "source": [
    "# Author: Ergi Pojani"
   ]
  },
  {
   "cell_type": "code",
   "execution_count": null,
   "id": "0c11adb2",
   "metadata": {},
   "outputs": [],
   "source": []
  }
 ],
 "metadata": {
  "kernelspec": {
   "display_name": "Python 3 (ipykernel)",
   "language": "python",
   "name": "python3"
  },
  "language_info": {
   "codemirror_mode": {
    "name": "ipython",
    "version": 3
   },
   "file_extension": ".py",
   "mimetype": "text/x-python",
   "name": "python",
   "nbconvert_exporter": "python",
   "pygments_lexer": "ipython3",
   "version": "3.11.5"
  }
 },
 "nbformat": 4,
 "nbformat_minor": 5
}
